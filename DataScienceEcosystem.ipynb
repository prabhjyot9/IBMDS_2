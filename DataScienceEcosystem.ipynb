{
 "cells": [
  {
   "cell_type": "markdown",
   "id": "99ddf814-f6ab-4460-b453-3d6e7e369a13",
   "metadata": {},
   "source": [
    "## Data Science Tools and Ecosystem"
   ]
  },
  {
   "cell_type": "markdown",
   "id": "693c25be-9c15-4f46-8295-6661afef87ff",
   "metadata": {},
   "source": [
    "### In this notebook, Data Science Tools and Ecosystem are summarized."
   ]
  },
  {
   "cell_type": "markdown",
   "id": "513ecf5a-724b-4efc-8582-fc61979115b1",
   "metadata": {},
   "source": [
    "#### Popular Data Science Languages\n",
    "1. **Python**\n",
    "2. **R** \n",
    "3. **SQL**"
   ]
  },
  {
   "cell_type": "markdown",
   "id": "0d5e13f5-badc-46a6-bbc4-a70b0f243b79",
   "metadata": {},
   "source": [
    "#### Popular Data Science Libraries\n",
    "1. **Numpy**\n",
    "2. **Scikit** \n",
    "3. **Pandas**"
   ]
  },
  {
   "cell_type": "markdown",
   "id": "7d1b43a6-5461-48a3-b6f6-c53ca530365f",
   "metadata": {},
   "source": [
    "### Development Environment Open Source Tools\n",
    "| Data Science Tools | Intro|\n",
    "|---|---|\n",
    "| **Jupyter Notebook** | An interactive web-based environment|\n",
    "| **RStudio** | An integrated development environment|\n",
    "| **Visual Studio Code** | A versatile code editor|"
   ]
  },
  {
   "cell_type": "markdown",
   "id": "d5d2881b-7fac-44a4-9b26-a865c79f6fb5",
   "metadata": {
    "tags": []
   },
   "source": [
    "## Below are a few examples of evaluating arithmetic expressions in Python"
   ]
  },
  {
   "cell_type": "code",
   "execution_count": 3,
   "id": "01be22a6-b2a5-448a-8e7b-023831d52216",
   "metadata": {
    "tags": []
   },
   "outputs": [
    {
     "data": {
      "text/plain": [
       "17"
      ]
     },
     "execution_count": 3,
     "metadata": {},
     "output_type": "execute_result"
    }
   ],
   "source": [
    "# This a simple arithmetic expression to mutiply then add integers\n",
    "(3*4)+5"
   ]
  },
  {
   "cell_type": "code",
   "execution_count": 5,
   "id": "b9ff45ef-daf1-47c9-963b-bc3153c676fa",
   "metadata": {
    "tags": []
   },
   "outputs": [
    {
     "name": "stdout",
     "output_type": "stream",
     "text": [
      "200 minutes is equal to 3.3333333333333335 hours.\n"
     ]
    }
   ],
   "source": [
    "# This will convert 200 minutes to hours by diving by 60\n",
    "minutes = 200\n",
    "hours = minutes / 60\n",
    "\n",
    "print(f\"{minutes} minutes is equal to {hours} hours.\")"
   ]
  },
  {
   "cell_type": "markdown",
   "id": "8762327b-9425-4063-a2f9-d16ad63c5f11",
   "metadata": {},
   "source": [
    "### List popular languages for Data Science\n",
    "* **Python:**\n",
    "* **R:**\n",
    "* **SQL:**\n",
    "* **Java:** \n",
    "* **Julia:**"
   ]
  },
  {
   "cell_type": "markdown",
   "id": "e27516e1-cd8f-4ef1-9114-a0c2423b82b8",
   "metadata": {},
   "source": [
    "## Author\n",
    "### Prabhjyot Wadhwa\n",
    "\n"
   ]
  },
  {
   "cell_type": "code",
   "execution_count": null,
   "id": "59b12cb2-5ea1-40b7-919f-41ca39c90dd8",
   "metadata": {},
   "outputs": [],
   "source": []
  }
 ],
 "metadata": {
  "kernelspec": {
   "display_name": "Python",
   "language": "python",
   "name": "conda-env-python-py"
  },
  "language_info": {
   "codemirror_mode": {
    "name": "ipython",
    "version": 3
   },
   "file_extension": ".py",
   "mimetype": "text/x-python",
   "name": "python",
   "nbconvert_exporter": "python",
   "pygments_lexer": "ipython3",
   "version": "3.7.12"
  }
 },
 "nbformat": 4,
 "nbformat_minor": 5
}
